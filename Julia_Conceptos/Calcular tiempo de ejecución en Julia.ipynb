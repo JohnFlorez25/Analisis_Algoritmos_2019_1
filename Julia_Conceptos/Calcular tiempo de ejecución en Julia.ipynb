{
 "cells": [
  {
   "cell_type": "markdown",
   "metadata": {},
   "source": [
    "# Calcular tiempo de ejecución en Julia"
   ]
  },
  {
   "cell_type": "code",
   "execution_count": 1,
   "metadata": {},
   "outputs": [
    {
     "ename": "InterruptException",
     "evalue": "InterruptException:",
     "output_type": "error",
     "traceback": [
      "InterruptException:",
      "",
      "Stacktrace:",
      " [1] try_yieldto(::typeof(Base.ensure_rescheduled), ::Base.RefValue{Task}) at .\\event.jl:196",
      " [2] wait() at .\\event.jl:255",
      " [3] uv_write(::Base.PipeEndpoint, ::Ptr{UInt8}, ::UInt64) at .\\stream.jl:853",
      " [4] flush at .\\stream.jl:928 [inlined]",
      " [5] flush at .\\io.jl:227 [inlined]",
      " [6] flush(::IJulia.IJuliaStdio{Base.PipeEndpoint}) at C:\\Users\\johnf_000\\.julia\\packages\\IJulia\\cwvsj\\src\\stdio.jl:273",
      " [7] flush_all() at C:\\Users\\johnf_000\\.julia\\packages\\IJulia\\cwvsj\\src\\stdio.jl:257",
      " [8] execute_request(::ZMQ.Socket, ::IJulia.Msg) at C:\\Users\\johnf_000\\.julia\\packages\\IJulia\\cwvsj\\src\\execute_request.jl:105",
      " [9] #invokelatest#1 at .\\essentials.jl:742 [inlined]",
      " [10] invokelatest at .\\essentials.jl:741 [inlined]",
      " [11] eventloop(::ZMQ.Socket) at C:\\Users\\johnf_000\\.julia\\packages\\IJulia\\cwvsj\\src\\eventloop.jl:8",
      " [12] (::getfield(IJulia, Symbol(\"##15#18\")))() at .\\task.jl:259"
     ]
    }
   ],
   "source": [
    "using Plots"
   ]
  },
  {
   "cell_type": "code",
   "execution_count": 2,
   "metadata": {},
   "outputs": [
    {
     "data": {
      "text/plain": [
       "multiplicacion (generic function with 1 method)"
      ]
     },
     "execution_count": 2,
     "metadata": {},
     "output_type": "execute_result"
    }
   ],
   "source": [
    "function multiplicacion(n)\n",
    "    A = n * n;\n",
    "    return A;\n",
    "end"
   ]
  },
  {
   "cell_type": "code",
   "execution_count": 44,
   "metadata": {},
   "outputs": [],
   "source": [
    "x=100;\n",
    "v = [];\n",
    "mult = [];\n",
    "elapsed = [];"
   ]
  },
  {
   "cell_type": "code",
   "execution_count": 45,
   "metadata": {},
   "outputs": [],
   "source": [
    "v = collect(1:x);\n",
    "for i = 1:x  \n",
    "    tina = time();\n",
    "    mult = push!(mult,multiplicacion(i^2));\n",
    "    touta = time();\n",
    "    elapsedT = (touta - tina);\n",
    "    elapsed = push!(elapsed, elapsedT);\n",
    "end"
   ]
  },
  {
   "cell_type": "code",
   "execution_count": null,
   "metadata": {},
   "outputs": [],
   "source": [
    "plot(v,mult)"
   ]
  },
  {
   "cell_type": "code",
   "execution_count": null,
   "metadata": {},
   "outputs": [],
   "source": []
  }
 ],
 "metadata": {
  "kernelspec": {
   "display_name": "Julia 1.1.1",
   "language": "julia",
   "name": "julia-1.1"
  },
  "language_info": {
   "file_extension": ".jl",
   "mimetype": "application/julia",
   "name": "julia",
   "version": "1.1.1"
  }
 },
 "nbformat": 4,
 "nbformat_minor": 2
}
