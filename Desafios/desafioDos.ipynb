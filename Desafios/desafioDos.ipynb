{
 "cells": [
  {
   "cell_type": "markdown",
   "metadata": {},
   "source": [
    "# Desafío Dos : Complejidad algorítmica \n",
    "## Por: John Faber Flórez Vasco"
   ]
  },
  {
   "cell_type": "markdown",
   "metadata": {},
   "source": [
    "1. Dado el siguiente fragmento de código, cuál es su $\\mathcal{O}(n)$?"
   ]
  },
  {
   "cell_type": "code",
   "execution_count": 8,
   "metadata": {},
   "outputs": [
    {
     "name": "stdout",
     "output_type": "stream",
     "text": [
      "1 -> 3 -> 6 -> 10 -> 15 -> 17 -> 21 -> 27 -> 35 -> 45 -> 48 -> 54 -> 63 -> 75 -> 90 -> 94 -> 102 -> 114 -> 130 -> 150 -> 155 -> 165 -> 180 -> 200 -> 225 -> "
     ]
    }
   ],
   "source": [
    "prueba = 0\n",
    "n = 5\n",
    "for i = 1 : n\n",
    "    for j = 1 : n\n",
    "        prueba = prueba + i * j\n",
    "        print(prueba,\" -> \")\n",
    "    end\n",
    "end"
   ]
  },
  {
   "cell_type": "markdown",
   "metadata": {},
   "source": [
    "**Se ignoran la línea 2 y la línea 6 ya que se realizan como pruebas de salida modificadas al algoritmo inicialmente planteado**\n",
    "- **Línea Uno:** Asignación = **1**\n",
    "- **Línea Tres:** Ciclo Para en incrementos de uno a uno = **2n + 2**\n",
    "- **Línea Cuatro:** Ciclo Para que se encuentra anidado teniendo en cuenta el incremento uno a uno anterior = **(2n + 2)*n**\n",
    "- **Línea Cinco:** asignación que se repite n * n de acuerdo a los incrementos del ciclo anidado = **1 * n * n**\n",
    "Teniendo en cuenta esto:\n",
    "$$ 3n^{2} + 4n + 3$$\n",
    "\n",
    "Donde el orden n del algorítmo sería:\n",
    "\n",
    "$$\\mathcal{O}(n^{2})$$"
   ]
  },
  {
   "cell_type": "markdown",
   "metadata": {},
   "source": [
    "2. Dado el siguiente fragmento de código, cuál es su $\\mathcal{O}(n)$?"
   ]
  },
  {
   "cell_type": "code",
   "execution_count": 11,
   "metadata": {},
   "outputs": [
    {
     "name": "stdout",
     "output_type": "stream",
     "text": [
      "1 -> 2 -> 3 -> 4 -> 5 -> \n",
      "4 -> 3 -> 2 -> 1 -> 0 -> "
     ]
    }
   ],
   "source": [
    "prueba = 0\n",
    "n = 5\n",
    "for i = 1 : n\n",
    "    prueba = prueba + 1\n",
    "    print(prueba,\" -> \")\n",
    "end\n",
    "println()\n",
    "for j = 1 : n \n",
    "    prueba = prueba - 1\n",
    "    print(prueba,\" -> \")\n",
    "end"
   ]
  },
  {
   "cell_type": "markdown",
   "metadata": {},
   "source": [
    "**Se ignoran línea 2, línea 5,línea 7 y la línea 10 ya que se realizan como pruebas de salida modificadas al algoritmo inicialmente planteado**\n",
    "- **Línea Uno:** Asignación = **1**\n",
    "- **Línea Tres:** Ciclo Para en incrementos de uno a uno = **2n + 2**\n",
    "- **Línea Cuatro:** Asignación = **1**\n",
    "- **Línea Ocho:** Ciclo Para en incrementos de uno a uno = **2n + 2**\n",
    "- **Línea Nueve:** Asignación = **1**\n",
    "- Teniendo en cuenta esto:\n",
    "$$ 4n + 7 $$\n",
    "\n",
    "Donde el orden n del algorítmo sería:\n",
    "\n",
    "$$\\mathcal{O}(n)$$"
   ]
  },
  {
   "cell_type": "markdown",
   "metadata": {},
   "source": [
    "3. Dado el siguiente fragmento de código, cuál es su $\\mathcal{O}(n)$?"
   ]
  },
  {
   "cell_type": "code",
   "execution_count": 27,
   "metadata": {},
   "outputs": [
    {
     "name": "stdout",
     "output_type": "stream",
     "text": [
      "16\n",
      "8\n",
      "4\n",
      "2\n",
      "1\n",
      "0\n"
     ]
    }
   ],
   "source": [
    "n = 2^5\n",
    "i = n\n",
    "while( i > 0)\n",
    "    k = 2 + 2\n",
    "    i = div(i,2)\n",
    "    #println(k)\n",
    "    println(i)\n",
    "end"
   ]
  },
  {
   "cell_type": "markdown",
   "metadata": {},
   "source": [
    "**Se ignoran línea 1, línea 6, y la línea 7 ya que se realizan como pruebas de salida modificadas al algoritmo inicialmente planteado**\n",
    "- **Línea Dos:** Asignación = **1**\n",
    "- **Línea Tres:** Ciclo Mientras se ejecuta en potencias divididas= **$ log_{2} n + 1$**\n",
    "- **Línea Cuatro:** Asignación = **1**\n",
    "- **Línea Cinco:** Div decrementa en potencias de 2 = **$ log_{2} n $**\n",
    "- Teniendo en cuenta esto:\n",
    "$$ 3 + 2log_{2} n$$\n",
    "\n",
    "Donde el orden n del algorítmo sería:\n",
    "\n",
    "$$\\mathcal{O}(log_{2} n)$$"
   ]
  },
  {
   "cell_type": "code",
   "execution_count": null,
   "metadata": {},
   "outputs": [],
   "source": []
  }
 ],
 "metadata": {
  "kernelspec": {
   "display_name": "Julia 1.1.1",
   "language": "julia",
   "name": "julia-1.1"
  },
  "language_info": {
   "file_extension": ".jl",
   "mimetype": "application/julia",
   "name": "julia",
   "version": "1.1.1"
  }
 },
 "nbformat": 4,
 "nbformat_minor": 2
}
